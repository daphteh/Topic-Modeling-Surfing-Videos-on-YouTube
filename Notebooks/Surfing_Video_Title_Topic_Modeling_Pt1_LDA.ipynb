{
  "nbformat": 4,
  "nbformat_minor": 0,
  "metadata": {
    "colab": {
      "provenance": []
    },
    "kernelspec": {
      "name": "python3",
      "display_name": "Python 3"
    },
    "language_info": {
      "name": "python"
    }
  },
  "cells": [
    {
      "cell_type": "code",
      "execution_count": 1,
      "metadata": {
        "colab": {
          "base_uri": "https://localhost:8080/"
        },
        "id": "DrNr-Cg8Fzq3",
        "outputId": "fc5321ce-ee00-42f0-8198-2526393bf878"
      },
      "outputs": [
        {
          "output_type": "stream",
          "name": "stdout",
          "text": [
            "Requirement already satisfied: tqdm in /usr/local/lib/python3.10/dist-packages (4.66.2)\n"
          ]
        }
      ],
      "source": [
        "!pip install tqdm"
      ]
    },
    {
      "cell_type": "code",
      "source": [
        "import numpy as np\n",
        "import pandas as pd\n",
        "import tqdm"
      ],
      "metadata": {
        "id": "r3CXjeurF8Bb"
      },
      "execution_count": 2,
      "outputs": []
    },
    {
      "cell_type": "code",
      "source": [
        "import nltk\n",
        "nltk.download('punkt')\n",
        "nltk.download('stopwords')\n",
        "nltk.download('wordnet')"
      ],
      "metadata": {
        "colab": {
          "base_uri": "https://localhost:8080/"
        },
        "id": "XhdqrAs-9hlP",
        "outputId": "416ffdaf-370b-4992-c5bd-d3192f7aa87c"
      },
      "execution_count": 3,
      "outputs": [
        {
          "output_type": "stream",
          "name": "stderr",
          "text": [
            "[nltk_data] Downloading package punkt to /root/nltk_data...\n",
            "[nltk_data]   Unzipping tokenizers/punkt.zip.\n",
            "[nltk_data] Downloading package stopwords to /root/nltk_data...\n",
            "[nltk_data]   Unzipping corpora/stopwords.zip.\n",
            "[nltk_data] Downloading package wordnet to /root/nltk_data...\n"
          ]
        },
        {
          "output_type": "execute_result",
          "data": {
            "text/plain": [
              "True"
            ]
          },
          "metadata": {},
          "execution_count": 3
        }
      ]
    },
    {
      "cell_type": "code",
      "source": [
        "video_data = pd.read_csv('/content/video_df.csv') #Data was scraped - will add a link to my scraping and data cleaning Notebook\n",
        "video_data = video_data.drop(['Unnamed: 0', 'favouriteCount'], axis=1)\n",
        "video_df = video_data.copy(deep=True)"
      ],
      "metadata": {
        "id": "C3It1ka4JdOZ"
      },
      "execution_count": 4,
      "outputs": []
    },
    {
      "cell_type": "code",
      "source": [
        "video_df['channelTitle'].unique() #These are the channels I follow :)"
      ],
      "metadata": {
        "colab": {
          "base_uri": "https://localhost:8080/"
        },
        "id": "27YDPopNMFPt",
        "outputId": "e517cd85-872a-4689-e674-0e564a3f3c81"
      },
      "execution_count": 5,
      "outputs": [
        {
          "output_type": "execute_result",
          "data": {
            "text/plain": [
              "array(['How to Rip', 'Nathan Florence', 'Nic Von Rupp', 'Barefoot Surf',\n",
              "       'Kai Lenny', 'Surf Strength Coach', 'Ombe Surf', 'Rip Curl',\n",
              "       'Surfline', 'Red Bull Surfing', 'Kale Brock'], dtype=object)"
            ]
          },
          "metadata": {},
          "execution_count": 5
        }
      ]
    },
    {
      "cell_type": "code",
      "source": [
        "# Extract data for LDA\n",
        "titles = []\n",
        "\n",
        "for title in video_df['title']:\n",
        "  titles.append(title)\n",
        "titles[:10]"
      ],
      "metadata": {
        "colab": {
          "base_uri": "https://localhost:8080/"
        },
        "id": "NfCUjn1zK2Z1",
        "outputId": "5e652baa-1543-4873-92f4-12c96f803695"
      },
      "execution_count": 6,
      "outputs": [
        {
          "output_type": "execute_result",
          "data": {
            "text/plain": [
              "['Surfing Will Change Your Life For The Better, In Ways You Have Never Imagined',\n",
              " 'Surfing + Corporate Development = The Perfect Combination',\n",
              " 'Using Surf Therapy To Help Frontline Workers Thrive | Aussie Frontline',\n",
              " 'Surfer Escapes Into Nature',\n",
              " 'Surfer Improves Their Pop Up x100 In One Surf',\n",
              " 'Party Waves Are The Best Waves!',\n",
              " 'Progress At An All Time Rate In Here',\n",
              " 'Wave Pools Are A Surfers Greatest Cheat Code',\n",
              " 'Special Session Under The Stars',\n",
              " 'How To Surf From A Beginner To Intermediate In FIVE Days']"
            ]
          },
          "metadata": {},
          "execution_count": 6
        }
      ]
    },
    {
      "cell_type": "markdown",
      "source": [
        "#**Step 1: Data Cleaning and Preprocessing**"
      ],
      "metadata": {
        "id": "YGwLwBWrKv_H"
      }
    },
    {
      "cell_type": "code",
      "source": [
        "%%time\n",
        "stop_words = nltk.corpus.stopwords.words('english')\n",
        "wtk = nltk.tokenize.RegexpTokenizer(r'\\w+')\n",
        "wnl = nltk.stem.wordnet.WordNetLemmatizer()"
      ],
      "metadata": {
        "id": "444_G-lcJQ5r",
        "colab": {
          "base_uri": "https://localhost:8080/"
        },
        "outputId": "11a9151e-3813-4e5a-8348-c53a9b9ae9ac"
      },
      "execution_count": 7,
      "outputs": [
        {
          "output_type": "stream",
          "name": "stdout",
          "text": [
            "CPU times: user 1.86 ms, sys: 0 ns, total: 1.86 ms\n",
            "Wall time: 1.87 ms\n"
          ]
        }
      ]
    },
    {
      "cell_type": "code",
      "source": [
        "new_stop_words = ['surf', 'surfer', 'surfing'] #add words that don't contribute much meaning to the analysis\n",
        "stop_words = stop_words + new_stop_words\n",
        "\n",
        "print(len(stop_words))"
      ],
      "metadata": {
        "colab": {
          "base_uri": "https://localhost:8080/"
        },
        "id": "2amEgTS4QF9k",
        "outputId": "120439f9-10f7-4108-b773-8a4dae2f0154"
      },
      "execution_count": 9,
      "outputs": [
        {
          "output_type": "stream",
          "name": "stdout",
          "text": [
            "182\n"
          ]
        }
      ]
    },
    {
      "cell_type": "code",
      "source": [
        "def normalize_corpus(titles):\n",
        "    norm_titles = []\n",
        "    for title in tqdm.tqdm(titles):\n",
        "        title = title.lower()\n",
        "        title_tokens = [token.strip() for token in wtk.tokenize(title)]\n",
        "        title_tokens = [wnl.lemmatize(token) for token in title_tokens if not token.isnumeric()]\n",
        "        title_tokens = [token for token in title_tokens if len(token) > 1]\n",
        "        title_tokens = [token for token in title_tokens if token not in stop_words]\n",
        "        title_tokens = list(filter(None, title_tokens))\n",
        "        norm_titles.append(title_tokens)\n",
        "\n",
        "    return norm_titles\n",
        "\n",
        "norm_titles = normalize_corpus(titles)\n",
        "print(len(norm_titles))"
      ],
      "metadata": {
        "colab": {
          "base_uri": "https://localhost:8080/"
        },
        "id": "TPAjdRvZ6X9H",
        "outputId": "e1012840-fc08-4180-9c00-f133135688ea"
      },
      "execution_count": 10,
      "outputs": [
        {
          "output_type": "stream",
          "name": "stderr",
          "text": [
            "100%|██████████| 8821/8821 [00:01<00:00, 4418.16it/s]"
          ]
        },
        {
          "output_type": "stream",
          "name": "stdout",
          "text": [
            "8821\n"
          ]
        },
        {
          "output_type": "stream",
          "name": "stderr",
          "text": [
            "\n"
          ]
        }
      ]
    },
    {
      "cell_type": "code",
      "source": [
        "norm_titles[:10]"
      ],
      "metadata": {
        "colab": {
          "base_uri": "https://localhost:8080/"
        },
        "id": "ClOQaNsyNbIb",
        "outputId": "60180fd2-8a19-46b0-a783-e233db0e6e4c"
      },
      "execution_count": 11,
      "outputs": [
        {
          "output_type": "execute_result",
          "data": {
            "text/plain": [
              "[['change', 'life', 'better', 'way', 'never', 'imagined'],\n",
              " ['corporate', 'development', 'perfect', 'combination'],\n",
              " ['using',\n",
              "  'therapy',\n",
              "  'help',\n",
              "  'frontline',\n",
              "  'worker',\n",
              "  'thrive',\n",
              "  'aussie',\n",
              "  'frontline'],\n",
              " ['escape', 'nature'],\n",
              " ['improves', 'pop', 'x100', 'one'],\n",
              " ['party', 'wave', 'best', 'wave'],\n",
              " ['progress', 'time', 'rate'],\n",
              " ['wave', 'pool', 'greatest', 'cheat', 'code'],\n",
              " ['special', 'session', 'star'],\n",
              " ['beginner', 'intermediate', 'five', 'day']]"
            ]
          },
          "metadata": {},
          "execution_count": 11
        }
      ]
    },
    {
      "cell_type": "code",
      "source": [
        "#Check to see if any titles disappeared with the Stopword Removal\n",
        "def check1(ori_list, new_list):\n",
        "  if len(titles) == len(norm_titles):\n",
        "    print('We\\'r all set!')\n",
        "  else:\n",
        "    print('NO!')\n",
        "\n",
        "check1(titles, norm_titles)"
      ],
      "metadata": {
        "colab": {
          "base_uri": "https://localhost:8080/"
        },
        "id": "BAsCYHKdmfvQ",
        "outputId": "daf3be1e-db7e-44a3-9be3-48493be3cc4e"
      },
      "execution_count": 12,
      "outputs": [
        {
          "output_type": "stream",
          "name": "stdout",
          "text": [
            "We'r all set!\n"
          ]
        }
      ]
    },
    {
      "cell_type": "markdown",
      "source": [
        "Creating bigrams and Bag of Words"
      ],
      "metadata": {
        "id": "t0OWXToIP4s9"
      }
    },
    {
      "cell_type": "code",
      "source": [
        "import gensim\n",
        "gensim.__version__"
      ],
      "metadata": {
        "colab": {
          "base_uri": "https://localhost:8080/",
          "height": 35
        },
        "id": "pWBEMPxfN3DB",
        "outputId": "2116a778-f7f6-42d5-9721-49008b478009"
      },
      "execution_count": 13,
      "outputs": [
        {
          "output_type": "execute_result",
          "data": {
            "text/plain": [
              "'4.3.2'"
            ],
            "application/vnd.google.colaboratory.intrinsic+json": {
              "type": "string"
            }
          },
          "metadata": {},
          "execution_count": 13
        }
      ]
    },
    {
      "cell_type": "code",
      "source": [
        "bigram = gensim.models.Phrases(norm_titles, min_count=20, threshold=20)\n",
        "bigram_model = gensim.models.phrases.Phraser(bigram)"
      ],
      "metadata": {
        "id": "SFtXOM6XN8R2"
      },
      "execution_count": 14,
      "outputs": []
    },
    {
      "cell_type": "code",
      "source": [
        "norm_corpus_bigrams = bigram_model[norm_titles]\n",
        "dictionary = gensim.corpora.Dictionary(norm_corpus_bigrams)"
      ],
      "metadata": {
        "id": "EizuEnnmdBZX"
      },
      "execution_count": 15,
      "outputs": []
    },
    {
      "cell_type": "code",
      "source": [
        "print('Sample word to number mappings:', list(dictionary.items())[:15])\n",
        "print('Total Vocabulary Size:', len(dictionary))"
      ],
      "metadata": {
        "colab": {
          "base_uri": "https://localhost:8080/"
        },
        "id": "MFbfwt5-UlIu",
        "outputId": "68cde609-af69-49fe-b6f3-6bab8ddd1c2d"
      },
      "execution_count": 16,
      "outputs": [
        {
          "output_type": "stream",
          "name": "stdout",
          "text": [
            "Sample word to number mappings: [(0, 'better'), (1, 'change'), (2, 'imagined'), (3, 'life'), (4, 'never'), (5, 'way'), (6, 'combination'), (7, 'corporate'), (8, 'development'), (9, 'perfect'), (10, 'aussie'), (11, 'frontline'), (12, 'help'), (13, 'therapy'), (14, 'thrive')]\n",
            "Total Vocabulary Size: 5670\n"
          ]
        }
      ]
    },
    {
      "cell_type": "code",
      "source": [
        "dictionary.filter_extremes(no_below=0.02, no_above=0.6)\n",
        "print('Total Vocabulary Size:', len(dictionary))"
      ],
      "metadata": {
        "colab": {
          "base_uri": "https://localhost:8080/"
        },
        "id": "7n5D2lQEdfQp",
        "outputId": "b1bc50b0-a41a-4350-f246-f2f7987c6418"
      },
      "execution_count": 17,
      "outputs": [
        {
          "output_type": "stream",
          "name": "stdout",
          "text": [
            "Total Vocabulary Size: 5670\n"
          ]
        }
      ]
    },
    {
      "cell_type": "code",
      "source": [
        "bow_corpus = [dictionary.doc2bow(text) for text in norm_corpus_bigrams]"
      ],
      "metadata": {
        "id": "n8NV1_ARdyYl"
      },
      "execution_count": 18,
      "outputs": []
    },
    {
      "cell_type": "code",
      "source": [
        "print('Total number of video titles:', len(bow_corpus))"
      ],
      "metadata": {
        "colab": {
          "base_uri": "https://localhost:8080/"
        },
        "id": "iE_X3enveFNh",
        "outputId": "fcc55537-bb91-4e6d-c6c7-b5eb0429f507"
      },
      "execution_count": 19,
      "outputs": [
        {
          "output_type": "stream",
          "name": "stdout",
          "text": [
            "Total number of video titles: 8821\n"
          ]
        }
      ]
    },
    {
      "cell_type": "code",
      "source": [
        "print('Average Youtube title length: ', sum(len(i) for i in bow_corpus)/len(bow_corpus))"
      ],
      "metadata": {
        "colab": {
          "base_uri": "https://localhost:8080/"
        },
        "id": "cow3x-5wA_VI",
        "outputId": "6c562fea-e382-47be-bba7-70977a3f8c8c"
      },
      "execution_count": 22,
      "outputs": [
        {
          "output_type": "stream",
          "name": "stdout",
          "text": [
            "Average Youtube title length:  5.218115859879832\n"
          ]
        }
      ]
    },
    {
      "cell_type": "markdown",
      "source": [
        "#**Step 3: LDA - Tuning the Number of Topics**"
      ],
      "metadata": {
        "id": "GZoenmarkJ48"
      }
    },
    {
      "cell_type": "markdown",
      "source": [
        "Note that it really helps to already have a sense of the variation of videos (contextual knowledge)"
      ],
      "metadata": {
        "id": "LD810xDP-juS"
      }
    },
    {
      "cell_type": "code",
      "source": [
        "def topic_model_coherence_generator(corpus, texts, dictionary,\n",
        "                                    start_topic_count=2, end_topic_count=10, step=1,\n",
        "                                    cpus=1):\n",
        "\n",
        "    models = []\n",
        "    coherence_scores = []\n",
        "\n",
        "    for topic_nums in tqdm.tqdm(range(start_topic_count, end_topic_count+1, step)):\n",
        "        lda_model = gensim.models.LdaModel(corpus=bow_corpus,\n",
        "                                   id2word=dictionary, chunksize=895,\n",
        "                                   alpha='auto', eta='auto', random_state=42,\n",
        "                                   iterations=500, num_topics=topic_nums,\n",
        "                                   passes=20, eval_every=None)\n",
        "\n",
        "        cv_coherence_model_lda = gensim.models.CoherenceModel(model=lda_model, corpus=corpus,\n",
        "                                                                     texts=texts, dictionary=dictionary,\n",
        "                                                                    coherence='c_v')\n",
        "        coherence_score = cv_coherence_model_lda.get_coherence()\n",
        "\n",
        "        coherence_scores.append(coherence_score)\n",
        "        models.append(lda_model)\n",
        "\n",
        "    return models, coherence_scores"
      ],
      "metadata": {
        "id": "IHya0z2CkEmH"
      },
      "execution_count": 23,
      "outputs": []
    },
    {
      "cell_type": "code",
      "source": [
        "lda_models, coherence_scores = topic_model_coherence_generator(corpus=bow_corpus, texts=norm_corpus_bigrams,\n",
        "                                                               dictionary=dictionary, start_topic_count=2,\n",
        "                                                               end_topic_count=40, step=1, cpus=4)"
      ],
      "metadata": {
        "colab": {
          "base_uri": "https://localhost:8080/"
        },
        "id": "ZfzCFhux4qkg",
        "outputId": "743a6e2c-d378-4d5b-9ca8-a9fa6b543843"
      },
      "execution_count": 24,
      "outputs": [
        {
          "output_type": "stream",
          "name": "stderr",
          "text": [
            "  0%|          | 0/39 [00:00<?, ?it/s]WARNING:gensim.models.ldamodel:updated prior is not positive\n",
            "100%|██████████| 39/39 [14:43<00:00, 22.66s/it]\n"
          ]
        }
      ]
    },
    {
      "cell_type": "code",
      "source": [
        "coherence_df = pd.DataFrame({'Number of Topics': range(2, 41, 1),\n",
        "                             'Coherence Score': np.round(coherence_scores, 3)})\n",
        "coherence_df.sort_values(by=['Coherence Score'], ascending=False).head(10)"
      ],
      "metadata": {
        "colab": {
          "base_uri": "https://localhost:8080/",
          "height": 362
        },
        "id": "DDftGcSx1qlI",
        "outputId": "0d063965-26ff-4f04-a26e-19b0c87c96b5"
      },
      "execution_count": 25,
      "outputs": [
        {
          "output_type": "execute_result",
          "data": {
            "text/plain": [
              "    Number of Topics  Coherence Score\n",
              "26                28            0.639\n",
              "28                30            0.637\n",
              "25                27            0.636\n",
              "32                34            0.635\n",
              "37                39            0.634\n",
              "23                25            0.634\n",
              "35                37            0.632\n",
              "29                31            0.631\n",
              "22                24            0.631\n",
              "19                21            0.630"
            ],
            "text/html": [
              "\n",
              "  <div id=\"df-76dd8620-288d-436e-bd52-7ba8703856d2\" class=\"colab-df-container\">\n",
              "    <div>\n",
              "<style scoped>\n",
              "    .dataframe tbody tr th:only-of-type {\n",
              "        vertical-align: middle;\n",
              "    }\n",
              "\n",
              "    .dataframe tbody tr th {\n",
              "        vertical-align: top;\n",
              "    }\n",
              "\n",
              "    .dataframe thead th {\n",
              "        text-align: right;\n",
              "    }\n",
              "</style>\n",
              "<table border=\"1\" class=\"dataframe\">\n",
              "  <thead>\n",
              "    <tr style=\"text-align: right;\">\n",
              "      <th></th>\n",
              "      <th>Number of Topics</th>\n",
              "      <th>Coherence Score</th>\n",
              "    </tr>\n",
              "  </thead>\n",
              "  <tbody>\n",
              "    <tr>\n",
              "      <th>26</th>\n",
              "      <td>28</td>\n",
              "      <td>0.639</td>\n",
              "    </tr>\n",
              "    <tr>\n",
              "      <th>28</th>\n",
              "      <td>30</td>\n",
              "      <td>0.637</td>\n",
              "    </tr>\n",
              "    <tr>\n",
              "      <th>25</th>\n",
              "      <td>27</td>\n",
              "      <td>0.636</td>\n",
              "    </tr>\n",
              "    <tr>\n",
              "      <th>32</th>\n",
              "      <td>34</td>\n",
              "      <td>0.635</td>\n",
              "    </tr>\n",
              "    <tr>\n",
              "      <th>37</th>\n",
              "      <td>39</td>\n",
              "      <td>0.634</td>\n",
              "    </tr>\n",
              "    <tr>\n",
              "      <th>23</th>\n",
              "      <td>25</td>\n",
              "      <td>0.634</td>\n",
              "    </tr>\n",
              "    <tr>\n",
              "      <th>35</th>\n",
              "      <td>37</td>\n",
              "      <td>0.632</td>\n",
              "    </tr>\n",
              "    <tr>\n",
              "      <th>29</th>\n",
              "      <td>31</td>\n",
              "      <td>0.631</td>\n",
              "    </tr>\n",
              "    <tr>\n",
              "      <th>22</th>\n",
              "      <td>24</td>\n",
              "      <td>0.631</td>\n",
              "    </tr>\n",
              "    <tr>\n",
              "      <th>19</th>\n",
              "      <td>21</td>\n",
              "      <td>0.630</td>\n",
              "    </tr>\n",
              "  </tbody>\n",
              "</table>\n",
              "</div>\n",
              "    <div class=\"colab-df-buttons\">\n",
              "\n",
              "  <div class=\"colab-df-container\">\n",
              "    <button class=\"colab-df-convert\" onclick=\"convertToInteractive('df-76dd8620-288d-436e-bd52-7ba8703856d2')\"\n",
              "            title=\"Convert this dataframe to an interactive table.\"\n",
              "            style=\"display:none;\">\n",
              "\n",
              "  <svg xmlns=\"http://www.w3.org/2000/svg\" height=\"24px\" viewBox=\"0 -960 960 960\">\n",
              "    <path d=\"M120-120v-720h720v720H120Zm60-500h600v-160H180v160Zm220 220h160v-160H400v160Zm0 220h160v-160H400v160ZM180-400h160v-160H180v160Zm440 0h160v-160H620v160ZM180-180h160v-160H180v160Zm440 0h160v-160H620v160Z\"/>\n",
              "  </svg>\n",
              "    </button>\n",
              "\n",
              "  <style>\n",
              "    .colab-df-container {\n",
              "      display:flex;\n",
              "      gap: 12px;\n",
              "    }\n",
              "\n",
              "    .colab-df-convert {\n",
              "      background-color: #E8F0FE;\n",
              "      border: none;\n",
              "      border-radius: 50%;\n",
              "      cursor: pointer;\n",
              "      display: none;\n",
              "      fill: #1967D2;\n",
              "      height: 32px;\n",
              "      padding: 0 0 0 0;\n",
              "      width: 32px;\n",
              "    }\n",
              "\n",
              "    .colab-df-convert:hover {\n",
              "      background-color: #E2EBFA;\n",
              "      box-shadow: 0px 1px 2px rgba(60, 64, 67, 0.3), 0px 1px 3px 1px rgba(60, 64, 67, 0.15);\n",
              "      fill: #174EA6;\n",
              "    }\n",
              "\n",
              "    .colab-df-buttons div {\n",
              "      margin-bottom: 4px;\n",
              "    }\n",
              "\n",
              "    [theme=dark] .colab-df-convert {\n",
              "      background-color: #3B4455;\n",
              "      fill: #D2E3FC;\n",
              "    }\n",
              "\n",
              "    [theme=dark] .colab-df-convert:hover {\n",
              "      background-color: #434B5C;\n",
              "      box-shadow: 0px 1px 3px 1px rgba(0, 0, 0, 0.15);\n",
              "      filter: drop-shadow(0px 1px 2px rgba(0, 0, 0, 0.3));\n",
              "      fill: #FFFFFF;\n",
              "    }\n",
              "  </style>\n",
              "\n",
              "    <script>\n",
              "      const buttonEl =\n",
              "        document.querySelector('#df-76dd8620-288d-436e-bd52-7ba8703856d2 button.colab-df-convert');\n",
              "      buttonEl.style.display =\n",
              "        google.colab.kernel.accessAllowed ? 'block' : 'none';\n",
              "\n",
              "      async function convertToInteractive(key) {\n",
              "        const element = document.querySelector('#df-76dd8620-288d-436e-bd52-7ba8703856d2');\n",
              "        const dataTable =\n",
              "          await google.colab.kernel.invokeFunction('convertToInteractive',\n",
              "                                                    [key], {});\n",
              "        if (!dataTable) return;\n",
              "\n",
              "        const docLinkHtml = 'Like what you see? Visit the ' +\n",
              "          '<a target=\"_blank\" href=https://colab.research.google.com/notebooks/data_table.ipynb>data table notebook</a>'\n",
              "          + ' to learn more about interactive tables.';\n",
              "        element.innerHTML = '';\n",
              "        dataTable['output_type'] = 'display_data';\n",
              "        await google.colab.output.renderOutput(dataTable, element);\n",
              "        const docLink = document.createElement('div');\n",
              "        docLink.innerHTML = docLinkHtml;\n",
              "        element.appendChild(docLink);\n",
              "      }\n",
              "    </script>\n",
              "  </div>\n",
              "\n",
              "\n",
              "<div id=\"df-8c02e271-0f10-43d5-aa9e-8195ab3b2211\">\n",
              "  <button class=\"colab-df-quickchart\" onclick=\"quickchart('df-8c02e271-0f10-43d5-aa9e-8195ab3b2211')\"\n",
              "            title=\"Suggest charts\"\n",
              "            style=\"display:none;\">\n",
              "\n",
              "<svg xmlns=\"http://www.w3.org/2000/svg\" height=\"24px\"viewBox=\"0 0 24 24\"\n",
              "     width=\"24px\">\n",
              "    <g>\n",
              "        <path d=\"M19 3H5c-1.1 0-2 .9-2 2v14c0 1.1.9 2 2 2h14c1.1 0 2-.9 2-2V5c0-1.1-.9-2-2-2zM9 17H7v-7h2v7zm4 0h-2V7h2v10zm4 0h-2v-4h2v4z\"/>\n",
              "    </g>\n",
              "</svg>\n",
              "  </button>\n",
              "\n",
              "<style>\n",
              "  .colab-df-quickchart {\n",
              "      --bg-color: #E8F0FE;\n",
              "      --fill-color: #1967D2;\n",
              "      --hover-bg-color: #E2EBFA;\n",
              "      --hover-fill-color: #174EA6;\n",
              "      --disabled-fill-color: #AAA;\n",
              "      --disabled-bg-color: #DDD;\n",
              "  }\n",
              "\n",
              "  [theme=dark] .colab-df-quickchart {\n",
              "      --bg-color: #3B4455;\n",
              "      --fill-color: #D2E3FC;\n",
              "      --hover-bg-color: #434B5C;\n",
              "      --hover-fill-color: #FFFFFF;\n",
              "      --disabled-bg-color: #3B4455;\n",
              "      --disabled-fill-color: #666;\n",
              "  }\n",
              "\n",
              "  .colab-df-quickchart {\n",
              "    background-color: var(--bg-color);\n",
              "    border: none;\n",
              "    border-radius: 50%;\n",
              "    cursor: pointer;\n",
              "    display: none;\n",
              "    fill: var(--fill-color);\n",
              "    height: 32px;\n",
              "    padding: 0;\n",
              "    width: 32px;\n",
              "  }\n",
              "\n",
              "  .colab-df-quickchart:hover {\n",
              "    background-color: var(--hover-bg-color);\n",
              "    box-shadow: 0 1px 2px rgba(60, 64, 67, 0.3), 0 1px 3px 1px rgba(60, 64, 67, 0.15);\n",
              "    fill: var(--button-hover-fill-color);\n",
              "  }\n",
              "\n",
              "  .colab-df-quickchart-complete:disabled,\n",
              "  .colab-df-quickchart-complete:disabled:hover {\n",
              "    background-color: var(--disabled-bg-color);\n",
              "    fill: var(--disabled-fill-color);\n",
              "    box-shadow: none;\n",
              "  }\n",
              "\n",
              "  .colab-df-spinner {\n",
              "    border: 2px solid var(--fill-color);\n",
              "    border-color: transparent;\n",
              "    border-bottom-color: var(--fill-color);\n",
              "    animation:\n",
              "      spin 1s steps(1) infinite;\n",
              "  }\n",
              "\n",
              "  @keyframes spin {\n",
              "    0% {\n",
              "      border-color: transparent;\n",
              "      border-bottom-color: var(--fill-color);\n",
              "      border-left-color: var(--fill-color);\n",
              "    }\n",
              "    20% {\n",
              "      border-color: transparent;\n",
              "      border-left-color: var(--fill-color);\n",
              "      border-top-color: var(--fill-color);\n",
              "    }\n",
              "    30% {\n",
              "      border-color: transparent;\n",
              "      border-left-color: var(--fill-color);\n",
              "      border-top-color: var(--fill-color);\n",
              "      border-right-color: var(--fill-color);\n",
              "    }\n",
              "    40% {\n",
              "      border-color: transparent;\n",
              "      border-right-color: var(--fill-color);\n",
              "      border-top-color: var(--fill-color);\n",
              "    }\n",
              "    60% {\n",
              "      border-color: transparent;\n",
              "      border-right-color: var(--fill-color);\n",
              "    }\n",
              "    80% {\n",
              "      border-color: transparent;\n",
              "      border-right-color: var(--fill-color);\n",
              "      border-bottom-color: var(--fill-color);\n",
              "    }\n",
              "    90% {\n",
              "      border-color: transparent;\n",
              "      border-bottom-color: var(--fill-color);\n",
              "    }\n",
              "  }\n",
              "</style>\n",
              "\n",
              "  <script>\n",
              "    async function quickchart(key) {\n",
              "      const quickchartButtonEl =\n",
              "        document.querySelector('#' + key + ' button');\n",
              "      quickchartButtonEl.disabled = true;  // To prevent multiple clicks.\n",
              "      quickchartButtonEl.classList.add('colab-df-spinner');\n",
              "      try {\n",
              "        const charts = await google.colab.kernel.invokeFunction(\n",
              "            'suggestCharts', [key], {});\n",
              "      } catch (error) {\n",
              "        console.error('Error during call to suggestCharts:', error);\n",
              "      }\n",
              "      quickchartButtonEl.classList.remove('colab-df-spinner');\n",
              "      quickchartButtonEl.classList.add('colab-df-quickchart-complete');\n",
              "    }\n",
              "    (() => {\n",
              "      let quickchartButtonEl =\n",
              "        document.querySelector('#df-8c02e271-0f10-43d5-aa9e-8195ab3b2211 button');\n",
              "      quickchartButtonEl.style.display =\n",
              "        google.colab.kernel.accessAllowed ? 'block' : 'none';\n",
              "    })();\n",
              "  </script>\n",
              "</div>\n",
              "    </div>\n",
              "  </div>\n"
            ],
            "application/vnd.google.colaboratory.intrinsic+json": {
              "type": "dataframe",
              "summary": "{\n  \"name\": \"coherence_df\",\n  \"rows\": 10,\n  \"fields\": [\n    {\n      \"column\": \"Number of Topics\",\n      \"properties\": {\n        \"dtype\": \"number\",\n        \"std\": 5,\n        \"min\": 21,\n        \"max\": 39,\n        \"num_unique_values\": 10,\n        \"samples\": [\n          24,\n          30,\n          25\n        ],\n        \"semantic_type\": \"\",\n        \"description\": \"\"\n      }\n    },\n    {\n      \"column\": \"Coherence Score\",\n      \"properties\": {\n        \"dtype\": \"number\",\n        \"std\": 0.00292308816911917,\n        \"min\": 0.63,\n        \"max\": 0.639,\n        \"num_unique_values\": 8,\n        \"samples\": [\n          0.637,\n          0.632,\n          0.639\n        ],\n        \"semantic_type\": \"\",\n        \"description\": \"\"\n      }\n    }\n  ]\n}"
            }
          },
          "metadata": {},
          "execution_count": 25
        }
      ]
    },
    {
      "cell_type": "code",
      "source": [
        "import matplotlib.pyplot as plt\n",
        "plt.style.use('fivethirtyeight')\n",
        "%matplotlib inline\n",
        "\n",
        "x_ax = range(2, 41, 1)\n",
        "y_ax = coherence_scores\n",
        "plt.figure(figsize=(12, 6))\n",
        "plt.plot(x_ax, y_ax, c='r')\n",
        "plt.axhline(y=0.634, c='k', linestyle='--', linewidth=2)\n",
        "plt.rcParams['figure.facecolor'] = 'white'\n",
        "xl = plt.xlabel('Number of Topics')\n",
        "yl = plt.ylabel('Coherence Score')"
      ],
      "metadata": {
        "colab": {
          "base_uri": "https://localhost:8080/",
          "height": 578
        },
        "id": "BORcQRmS9CO7",
        "outputId": "a5914137-1545-4a4e-9f16-4dc9359188df"
      },
      "execution_count": 26,
      "outputs": [
        {
          "output_type": "display_data",
          "data": {
            "text/plain": [
              "<Figure size 1200x600 with 1 Axes>"
            ],
            "image/png": "[encoded data removed]"
          },
          "metadata": {}
        }
      ]
    },
    {
      "cell_type": "code",
      "source": [
        "best_model_idx = coherence_df[coherence_df['Number of Topics'] == 28].index[0]\n",
        "best_lda_model = lda_models[best_model_idx]\n",
        "best_lda_model.num_topics"
      ],
      "metadata": {
        "colab": {
          "base_uri": "https://localhost:8080/"
        },
        "id": "jjkRgH7zNEPb",
        "outputId": "f2451e06-1f42-4b50-ef30-0780d161d057"
      },
      "execution_count": 34,
      "outputs": [
        {
          "output_type": "execute_result",
          "data": {
            "text/plain": [
              "28"
            ]
          },
          "metadata": {},
          "execution_count": 34
        }
      ]
    },
    {
      "cell_type": "code",
      "source": [
        "%%time\n",
        "TOTAL_TOPICS = 28\n",
        "best_lda_model = gensim.models.LdaModel(corpus=bow_corpus,\n",
        "                                   id2word=dictionary, chunksize=len(bow_corpus),\n",
        "                                   alpha='auto', eta='auto', random_state=42,\n",
        "                                   iterations=500, num_topics=TOTAL_TOPICS,\n",
        "                                   passes=20, eval_every=None)"
      ],
      "metadata": {
        "colab": {
          "base_uri": "https://localhost:8080/"
        },
        "id": "ozUYCKcqNH5u",
        "outputId": "e63aabb8-f86e-4a26-8d02-e0c57c89a7e3"
      },
      "execution_count": 35,
      "outputs": [
        {
          "output_type": "stream",
          "name": "stdout",
          "text": [
            "CPU times: user 27.6 s, sys: 313 ms, total: 27.9 s\n",
            "Wall time: 28 s\n"
          ]
        }
      ]
    },
    {
      "cell_type": "code",
      "source": [
        "topics = [[(term, round(wt, 3))\n",
        "               for term, wt in best_lda_model.show_topic(n, topn=10)]\n",
        "                   for n in range(0, best_lda_model.num_topics)]\n",
        "\n",
        "for idx, topic in enumerate(topics):\n",
        "    print('Topic #'+str(idx+1)+':')\n",
        "    print([term for term, wt in topic])\n",
        "    print()"
      ],
      "metadata": {
        "colab": {
          "base_uri": "https://localhost:8080/"
        },
        "id": "nv1F0djPNS9K",
        "outputId": "6225b326-225b-4fc8-a27f-2aac27074e3e"
      },
      "execution_count": 36,
      "outputs": [
        {
          "output_type": "stream",
          "name": "stdout",
          "text": [
            "Topic #1:\n",
            "['wave', 'session', 'kelly_slater', 'winter', 'new', 'indonesia', 'ever', 'paddle', 'surfline', 'preview']\n",
            "\n",
            "Topic #2:\n",
            "['wave', 'world', 'back', 'contest', 'insane', 'tour', 'day', 'small', 'swell', 'caroline']\n",
            "\n",
            "Topic #3:\n",
            "['pipeline', 'gopro_angle', 'two', 'france', 'ho', 'derek', '6th', 'rocky_point', 'episode', 'matsuoka']\n",
            "\n",
            "Topic #4:\n",
            "['january', 'pipeline', 'wave', 'episode', 'angle', 'red_bull', 'day', 'burrow', 'forecast', 'eli_olson']\n",
            "\n",
            "Topic #5:\n",
            "['session', 'kai_lenny', 'barrel', 'jaw', 'kai', 'swell', 'surfline_tv', 'super', 'tahiti', 'kalani']\n",
            "\n",
            "Topic #6:\n",
            "['like', 'wave', 'ocean', 'teahupoo', 'line', 'full', 'mexico', 'part', 'never', 'inside']\n",
            "\n",
            "Topic #7:\n",
            "['pipeline', 'dec', 'jan', 'angle', 'jamie_brien', 'wall', 'november', 'feb', 'koa_rothman', 'nov']\n",
            "\n",
            "Topic #8:\n",
            "['video', 'outlook', 'round_heat', 'southern_california', 'jordy_smith', 'wilson', 'chris', 'davidson', 'julian', 'workweek']\n",
            "\n",
            "Topic #9:\n",
            "['mirage', 'one', 'curl', 'rip', 'ultimate', 'made', 'boardshort', 'wave', 'mick_fanning', 'search']\n",
            "\n",
            "Topic #10:\n",
            "['gabriel_medina', 'round_heat', 'hobgood', 'matt_wilkinson', 'power', 'ross', 'damien', 'backdoor', 'thing', 'got']\n",
            "\n",
            "Topic #11:\n",
            "['top', 'beginner', 'south', 'intermediate', 'ep_hack', 'africa', 'challenge', 'mistake', 'wave', 'moment']\n",
            "\n",
            "Topic #12:\n",
            "['win', 'round_heat', 'battle_breast', 'bourez', 'punt_month', 'quarterfinal', 'walsh', 'ian', 'round', 'michel']\n",
            "\n",
            "Topic #13:\n",
            "['wave', 'big', 'session', 'slab', 'clip', 'podcast', 'late_drop', 'pov_raw', 'wild', 'iron']\n",
            "\n",
            "Topic #14:\n",
            "['surfboard', 'trip', 'board', 'day', 'better', 'know', 'every', 'performance', 'perfect', 'minute']\n",
            "\n",
            "Topic #15:\n",
            "['get', 'reef', 'time', 'wave', 'tyler_wright', 'step', 'improve', 'bell', 'body', 'barrel']\n",
            "\n",
            "Topic #16:\n",
            "['rip', 'curl', 'day', 'collection', 'bikini', 'woman', 'summer', 'good', 'one', 'mybikini']\n",
            "\n",
            "Topic #17:\n",
            "['short', 'pop', 'paddling', 'exercise', 'shoulder', 'jack_robinson', 'andre', 'stack', 'balaram', 'flynn']\n",
            "\n",
            "Topic #18:\n",
            "['backdoor', 'pipeline', 'florence', 'dec', 'john_john', 'jan', 'angle', 'february', 'griffin_colapinto', '7th']\n",
            "\n",
            "Topic #19:\n",
            "['pipeline', 'tube', 'anthony_walsh', 'mason_ho', 'feb', 'jan_10th', 'makua_rothman', 'dec', 'tip', 'jan_11th']\n",
            "\n",
            "Topic #20:\n",
            "['rip', 'curl', 'padang', 'cup_padang', 'bali', 'wave', 'made', 'everything', 'wetsuits', 'new']\n",
            "\n",
            "Topic #21:\n",
            "['curl', 'rip', 'best', 'bomb', 'wsl', 'final', 'etapa', 'energy', 'indonesia', 'wakita']\n",
            "\n",
            "Topic #22:\n",
            "['ep', 'wave', 'winter', 'training', 'exercise', 'workout', 'depth_podcast', 'stretch', 'fitness', 'style']\n",
            "\n",
            "Topic #23:\n",
            "['portugal', 'wave', 'season', 'best', 'lucas', 'champion', 'chumbo', 'rail', 'world', 'azores']\n",
            "\n",
            "Topic #24:\n",
            "['rip', 'curl', 'pro', 'gromsearch', 'final', 'highlight', 'day', 'portugal', 'beach', 'search']\n",
            "\n",
            "Topic #25:\n",
            "['live', 'surfline', 'cam', 'north_shore', 'replay', 'hawaii', 'lower', 'three', 'fin', 'session']\n",
            "\n",
            "Topic #26:\n",
            "['round_heat', 'wipeout', 'turn', 'parkinson', 'need', 'durbidge', 'surfboard', 'wave', 'bethany_hamilton', 'best']\n",
            "\n",
            "Topic #27:\n",
            "['cam_rewind', 'wave', 'catch', 'love', 'front', 'day', 'mick_fanning', 'left', 'perfect', 'first']\n",
            "\n",
            "Topic #28:\n",
            "['wave', 'von_froth', 'nazare', 'really', 'nazaré', 'big', 'xxl', 'session', 'october', 'swell']\n",
            "\n"
          ]
        }
      ]
    },
    {
      "cell_type": "code",
      "source": [
        "topics_df = pd.DataFrame([[term for term, wt in topic]\n",
        "                              for topic in topics],\n",
        "                         columns = ['Term'+str(i) for i in range(1, 11)],\n",
        "                         index=['Topic '+str(t) for t in range(1, best_lda_model.num_topics+1)]).T\n",
        "topics_df"
      ],
      "metadata": {
        "colab": {
          "base_uri": "https://localhost:8080/",
          "height": 429
        },
        "id": "3mjlStcNSqWf",
        "outputId": "5aed0aa9-51b0-4930-91a3-320374780956"
      },
      "execution_count": 37,
      "outputs": [
        {
          "output_type": "execute_result",
          "data": {
            "text/plain": [
              "             Topic 1   Topic 2      Topic 3    Topic 4      Topic 5   Topic 6  \\\n",
              "Term1           wave      wave     pipeline    january      session      like   \n",
              "Term2        session     world  gopro_angle   pipeline    kai_lenny      wave   \n",
              "Term3   kelly_slater      back          two       wave       barrel     ocean   \n",
              "Term4         winter   contest       france    episode          jaw  teahupoo   \n",
              "Term5            new    insane           ho      angle          kai      line   \n",
              "Term6      indonesia      tour        derek   red_bull        swell      full   \n",
              "Term7           ever       day          6th        day  surfline_tv    mexico   \n",
              "Term8         paddle     small  rocky_point     burrow        super      part   \n",
              "Term9       surfline     swell      episode   forecast       tahiti     never   \n",
              "Term10       preview  caroline     matsuoka  eli_olson       kalani    inside   \n",
              "\n",
              "            Topic 7              Topic 8       Topic 9        Topic 10  ...  \\\n",
              "Term1      pipeline                video        mirage  gabriel_medina  ...   \n",
              "Term2           dec              outlook           one      round_heat  ...   \n",
              "Term3           jan           round_heat          curl         hobgood  ...   \n",
              "Term4         angle  southern_california           rip  matt_wilkinson  ...   \n",
              "Term5   jamie_brien          jordy_smith      ultimate           power  ...   \n",
              "Term6          wall               wilson          made            ross  ...   \n",
              "Term7      november                chris    boardshort          damien  ...   \n",
              "Term8           feb             davidson          wave        backdoor  ...   \n",
              "Term9   koa_rothman               julian  mick_fanning           thing  ...   \n",
              "Term10          nov             workweek        search             got  ...   \n",
              "\n",
              "             Topic 19    Topic 20   Topic 21       Topic 22  Topic 23  \\\n",
              "Term1        pipeline         rip       curl             ep  portugal   \n",
              "Term2            tube        curl        rip           wave      wave   \n",
              "Term3   anthony_walsh      padang       best         winter    season   \n",
              "Term4        mason_ho  cup_padang       bomb       training      best   \n",
              "Term5             feb        bali        wsl       exercise     lucas   \n",
              "Term6        jan_10th        wave      final        workout  champion   \n",
              "Term7   makua_rothman        made      etapa  depth_podcast    chumbo   \n",
              "Term8             dec  everything     energy        stretch      rail   \n",
              "Term9             tip    wetsuits  indonesia        fitness     world   \n",
              "Term10       jan_11th         new     wakita          style    azores   \n",
              "\n",
              "          Topic 24     Topic 25          Topic 26      Topic 27   Topic 28  \n",
              "Term1          rip         live        round_heat    cam_rewind       wave  \n",
              "Term2         curl     surfline           wipeout          wave  von_froth  \n",
              "Term3          pro          cam              turn         catch     nazare  \n",
              "Term4   gromsearch  north_shore         parkinson          love     really  \n",
              "Term5        final       replay              need         front     nazaré  \n",
              "Term6    highlight       hawaii          durbidge           day        big  \n",
              "Term7          day        lower         surfboard  mick_fanning        xxl  \n",
              "Term8     portugal        three              wave          left    session  \n",
              "Term9        beach          fin  bethany_hamilton       perfect    october  \n",
              "Term10      search      session              best         first      swell  \n",
              "\n",
              "[10 rows x 28 columns]"
            ],
            "text/html": [
              "\n",
              "  <div id=\"df-3a8b317c-e539-4467-b31f-71051d8f1973\" class=\"colab-df-container\">\n",
              "    <div>\n",
              "<style scoped>\n",
              "    .dataframe tbody tr th:only-of-type {\n",
              "        vertical-align: middle;\n",
              "    }\n",
              "\n",
              "    .dataframe tbody tr th {\n",
              "        vertical-align: top;\n",
              "    }\n",
              "\n",
              "    .dataframe thead th {\n",
              "        text-align: right;\n",
              "    }\n",
              "</style>\n",
              "<table border=\"1\" class=\"dataframe\">\n",
              "  <thead>\n",
              "    <tr style=\"text-align: right;\">\n",
              "      <th></th>\n",
              "      <th>Topic 1</th>\n",
              "      <th>Topic 2</th>\n",
              "      <th>Topic 3</th>\n",
              "      <th>Topic 4</th>\n",
              "      <th>Topic 5</th>\n",
              "      <th>Topic 6</th>\n",
              "      <th>Topic 7</th>\n",
              "      <th>Topic 8</th>\n",
              "      <th>Topic 9</th>\n",
              "      <th>Topic 10</th>\n",
              "      <th>...</th>\n",
              "      <th>Topic 19</th>\n",
              "      <th>Topic 20</th>\n",
              "      <th>Topic 21</th>\n",
              "      <th>Topic 22</th>\n",
              "      <th>Topic 23</th>\n",
              "      <th>Topic 24</th>\n",
              "      <th>Topic 25</th>\n",
              "      <th>Topic 26</th>\n",
              "      <th>Topic 27</th>\n",
              "      <th>Topic 28</th>\n",
              "    </tr>\n",
              "  </thead>\n",
              "  <tbody>\n",
              "    <tr>\n",
              "      <th>Term1</th>\n",
              "      <td>wave</td>\n",
              "      <td>wave</td>\n",
              "      <td>pipeline</td>\n",
              "      <td>january</td>\n",
              "      <td>session</td>\n",
              "      <td>like</td>\n",
              "      <td>pipeline</td>\n",
              "      <td>video</td>\n",
              "      <td>mirage</td>\n",
              "      <td>gabriel_medina</td>\n",
              "      <td>...</td>\n",
              "      <td>pipeline</td>\n",
              "      <td>rip</td>\n",
              "      <td>curl</td>\n",
              "      <td>ep</td>\n",
              "      <td>portugal</td>\n",
              "      <td>rip</td>\n",
              "      <td>live</td>\n",
              "      <td>round_heat</td>\n",
              "      <td>cam_rewind</td>\n",
              "      <td>wave</td>\n",
              "    </tr>\n",
              "    <tr>\n",
              "      <th>Term2</th>\n",
              "      <td>session</td>\n",
              "      <td>world</td>\n",
              "      <td>gopro_angle</td>\n",
              "      <td>pipeline</td>\n",
              "      <td>kai_lenny</td>\n",
              "      <td>wave</td>\n",
              "      <td>dec</td>\n",
              "      <td>outlook</td>\n",
              "      <td>one</td>\n",
              "      <td>round_heat</td>\n",
              "      <td>...</td>\n",
              "      <td>tube</td>\n",
              "      <td>curl</td>\n",
              "      <td>rip</td>\n",
              "      <td>wave</td>\n",
              "      <td>wave</td>\n",
              "      <td>curl</td>\n",
              "      <td>surfline</td>\n",
              "      <td>wipeout</td>\n",
              "      <td>wave</td>\n",
              "      <td>von_froth</td>\n",
              "    </tr>\n",
              "    <tr>\n",
              "      <th>Term3</th>\n",
              "      <td>kelly_slater</td>\n",
              "      <td>back</td>\n",
              "      <td>two</td>\n",
              "      <td>wave</td>\n",
              "      <td>barrel</td>\n",
              "      <td>ocean</td>\n",
              "      <td>jan</td>\n",
              "      <td>round_heat</td>\n",
              "      <td>curl</td>\n",
              "      <td>hobgood</td>\n",
              "      <td>...</td>\n",
              "      <td>anthony_walsh</td>\n",
              "      <td>padang</td>\n",
              "      <td>best</td>\n",
              "      <td>winter</td>\n",
              "      <td>season</td>\n",
              "      <td>pro</td>\n",
              "      <td>cam</td>\n",
              "      <td>turn</td>\n",
              "      <td>catch</td>\n",
              "      <td>nazare</td>\n",
              "    </tr>\n",
              "    <tr>\n",
              "      <th>Term4</th>\n",
              "      <td>winter</td>\n",
              "      <td>contest</td>\n",
              "      <td>france</td>\n",
              "      <td>episode</td>\n",
              "      <td>jaw</td>\n",
              "      <td>teahupoo</td>\n",
              "      <td>angle</td>\n",
              "      <td>southern_california</td>\n",
              "      <td>rip</td>\n",
              "      <td>matt_wilkinson</td>\n",
              "      <td>...</td>\n",
              "      <td>mason_ho</td>\n",
              "      <td>cup_padang</td>\n",
              "      <td>bomb</td>\n",
              "      <td>training</td>\n",
              "      <td>best</td>\n",
              "      <td>gromsearch</td>\n",
              "      <td>north_shore</td>\n",
              "      <td>parkinson</td>\n",
              "      <td>love</td>\n",
              "      <td>really</td>\n",
              "    </tr>\n",
              "    <tr>\n",
              "      <th>Term5</th>\n",
              "      <td>new</td>\n",
              "      <td>insane</td>\n",
              "      <td>ho</td>\n",
              "      <td>angle</td>\n",
              "      <td>kai</td>\n",
              "      <td>line</td>\n",
              "      <td>jamie_brien</td>\n",
              "      <td>jordy_smith</td>\n",
              "      <td>ultimate</td>\n",
              "      <td>power</td>\n",
              "      <td>...</td>\n",
              "      <td>feb</td>\n",
              "      <td>bali</td>\n",
              "      <td>wsl</td>\n",
              "      <td>exercise</td>\n",
              "      <td>lucas</td>\n",
              "      <td>final</td>\n",
              "      <td>replay</td>\n",
              "      <td>need</td>\n",
              "      <td>front</td>\n",
              "      <td>nazaré</td>\n",
              "    </tr>\n",
              "    <tr>\n",
              "      <th>Term6</th>\n",
              "      <td>indonesia</td>\n",
              "      <td>tour</td>\n",
              "      <td>derek</td>\n",
              "      <td>red_bull</td>\n",
              "      <td>swell</td>\n",
              "      <td>full</td>\n",
              "      <td>wall</td>\n",
              "      <td>wilson</td>\n",
              "      <td>made</td>\n",
              "      <td>ross</td>\n",
              "      <td>...</td>\n",
              "      <td>jan_10th</td>\n",
              "      <td>wave</td>\n",
              "      <td>final</td>\n",
              "      <td>workout</td>\n",
              "      <td>champion</td>\n",
              "      <td>highlight</td>\n",
              "      <td>hawaii</td>\n",
              "      <td>durbidge</td>\n",
              "      <td>day</td>\n",
              "      <td>big</td>\n",
              "    </tr>\n",
              "    <tr>\n",
              "      <th>Term7</th>\n",
              "      <td>ever</td>\n",
              "      <td>day</td>\n",
              "      <td>6th</td>\n",
              "      <td>day</td>\n",
              "      <td>surfline_tv</td>\n",
              "      <td>mexico</td>\n",
              "      <td>november</td>\n",
              "      <td>chris</td>\n",
              "      <td>boardshort</td>\n",
              "      <td>damien</td>\n",
              "      <td>...</td>\n",
              "      <td>makua_rothman</td>\n",
              "      <td>made</td>\n",
              "      <td>etapa</td>\n",
              "      <td>depth_podcast</td>\n",
              "      <td>chumbo</td>\n",
              "      <td>day</td>\n",
              "      <td>lower</td>\n",
              "      <td>surfboard</td>\n",
              "      <td>mick_fanning</td>\n",
              "      <td>xxl</td>\n",
              "    </tr>\n",
              "    <tr>\n",
              "      <th>Term8</th>\n",
              "      <td>paddle</td>\n",
              "      <td>small</td>\n",
              "      <td>rocky_point</td>\n",
              "      <td>burrow</td>\n",
              "      <td>super</td>\n",
              "      <td>part</td>\n",
              "      <td>feb</td>\n",
              "      <td>davidson</td>\n",
              "      <td>wave</td>\n",
              "      <td>backdoor</td>\n",
              "      <td>...</td>\n",
              "      <td>dec</td>\n",
              "      <td>everything</td>\n",
              "      <td>energy</td>\n",
              "      <td>stretch</td>\n",
              "      <td>rail</td>\n",
              "      <td>portugal</td>\n",
              "      <td>three</td>\n",
              "      <td>wave</td>\n",
              "      <td>left</td>\n",
              "      <td>session</td>\n",
              "    </tr>\n",
              "    <tr>\n",
              "      <th>Term9</th>\n",
              "      <td>surfline</td>\n",
              "      <td>swell</td>\n",
              "      <td>episode</td>\n",
              "      <td>forecast</td>\n",
              "      <td>tahiti</td>\n",
              "      <td>never</td>\n",
              "      <td>koa_rothman</td>\n",
              "      <td>julian</td>\n",
              "      <td>mick_fanning</td>\n",
              "      <td>thing</td>\n",
              "      <td>...</td>\n",
              "      <td>tip</td>\n",
              "      <td>wetsuits</td>\n",
              "      <td>indonesia</td>\n",
              "      <td>fitness</td>\n",
              "      <td>world</td>\n",
              "      <td>beach</td>\n",
              "      <td>fin</td>\n",
              "      <td>bethany_hamilton</td>\n",
              "      <td>perfect</td>\n",
              "      <td>october</td>\n",
              "    </tr>\n",
              "    <tr>\n",
              "      <th>Term10</th>\n",
              "      <td>preview</td>\n",
              "      <td>caroline</td>\n",
              "      <td>matsuoka</td>\n",
              "      <td>eli_olson</td>\n",
              "      <td>kalani</td>\n",
              "      <td>inside</td>\n",
              "      <td>nov</td>\n",
              "      <td>workweek</td>\n",
              "      <td>search</td>\n",
              "      <td>got</td>\n",
              "      <td>...</td>\n",
              "      <td>jan_11th</td>\n",
              "      <td>new</td>\n",
              "      <td>wakita</td>\n",
              "      <td>style</td>\n",
              "      <td>azores</td>\n",
              "      <td>search</td>\n",
              "      <td>session</td>\n",
              "      <td>best</td>\n",
              "      <td>first</td>\n",
              "      <td>swell</td>\n",
              "    </tr>\n",
              "  </tbody>\n",
              "</table>\n",
              "<p>10 rows × 28 columns</p>\n",
              "</div>\n",
              "    <div class=\"colab-df-buttons\">\n",
              "\n",
              "  <div class=\"colab-df-container\">\n",
              "    <button class=\"colab-df-convert\" onclick=\"convertToInteractive('df-3a8b317c-e539-4467-b31f-71051d8f1973')\"\n",
              "            title=\"Convert this dataframe to an interactive table.\"\n",
              "            style=\"display:none;\">\n",
              "\n",
              "  <svg xmlns=\"http://www.w3.org/2000/svg\" height=\"24px\" viewBox=\"0 -960 960 960\">\n",
              "    <path d=\"M120-120v-720h720v720H120Zm60-500h600v-160H180v160Zm220 220h160v-160H400v160Zm0 220h160v-160H400v160ZM180-400h160v-160H180v160Zm440 0h160v-160H620v160ZM180-180h160v-160H180v160Zm440 0h160v-160H620v160Z\"/>\n",
              "  </svg>\n",
              "    </button>\n",
              "\n",
              "  <style>\n",
              "    .colab-df-container {\n",
              "      display:flex;\n",
              "      gap: 12px;\n",
              "    }\n",
              "\n",
              "    .colab-df-convert {\n",
              "      background-color: #E8F0FE;\n",
              "      border: none;\n",
              "      border-radius: 50%;\n",
              "      cursor: pointer;\n",
              "      display: none;\n",
              "      fill: #1967D2;\n",
              "      height: 32px;\n",
              "      padding: 0 0 0 0;\n",
              "      width: 32px;\n",
              "    }\n",
              "\n",
              "    .colab-df-convert:hover {\n",
              "      background-color: #E2EBFA;\n",
              "      box-shadow: 0px 1px 2px rgba(60, 64, 67, 0.3), 0px 1px 3px 1px rgba(60, 64, 67, 0.15);\n",
              "      fill: #174EA6;\n",
              "    }\n",
              "\n",
              "    .colab-df-buttons div {\n",
              "      margin-bottom: 4px;\n",
              "    }\n",
              "\n",
              "    [theme=dark] .colab-df-convert {\n",
              "      background-color: #3B4455;\n",
              "      fill: #D2E3FC;\n",
              "    }\n",
              "\n",
              "    [theme=dark] .colab-df-convert:hover {\n",
              "      background-color: #434B5C;\n",
              "      box-shadow: 0px 1px 3px 1px rgba(0, 0, 0, 0.15);\n",
              "      filter: drop-shadow(0px 1px 2px rgba(0, 0, 0, 0.3));\n",
              "      fill: #FFFFFF;\n",
              "    }\n",
              "  </style>\n",
              "\n",
              "    <script>\n",
              "      const buttonEl =\n",
              "        document.querySelector('#df-3a8b317c-e539-4467-b31f-71051d8f1973 button.colab-df-convert');\n",
              "      buttonEl.style.display =\n",
              "        google.colab.kernel.accessAllowed ? 'block' : 'none';\n",
              "\n",
              "      async function convertToInteractive(key) {\n",
              "        const element = document.querySelector('#df-3a8b317c-e539-4467-b31f-71051d8f1973');\n",
              "        const dataTable =\n",
              "          await google.colab.kernel.invokeFunction('convertToInteractive',\n",
              "                                                    [key], {});\n",
              "        if (!dataTable) return;\n",
              "\n",
              "        const docLinkHtml = 'Like what you see? Visit the ' +\n",
              "          '<a target=\"_blank\" href=https://colab.research.google.com/notebooks/data_table.ipynb>data table notebook</a>'\n",
              "          + ' to learn more about interactive tables.';\n",
              "        element.innerHTML = '';\n",
              "        dataTable['output_type'] = 'display_data';\n",
              "        await google.colab.output.renderOutput(dataTable, element);\n",
              "        const docLink = document.createElement('div');\n",
              "        docLink.innerHTML = docLinkHtml;\n",
              "        element.appendChild(docLink);\n",
              "      }\n",
              "    </script>\n",
              "  </div>\n",
              "\n",
              "\n",
              "<div id=\"df-35190ac2-6c8a-42d1-b7da-fc7233b5d528\">\n",
              "  <button class=\"colab-df-quickchart\" onclick=\"quickchart('df-35190ac2-6c8a-42d1-b7da-fc7233b5d528')\"\n",
              "            title=\"Suggest charts\"\n",
              "            style=\"display:none;\">\n",
              "\n",
              "<svg xmlns=\"http://www.w3.org/2000/svg\" height=\"24px\"viewBox=\"0 0 24 24\"\n",
              "     width=\"24px\">\n",
              "    <g>\n",
              "        <path d=\"M19 3H5c-1.1 0-2 .9-2 2v14c0 1.1.9 2 2 2h14c1.1 0 2-.9 2-2V5c0-1.1-.9-2-2-2zM9 17H7v-7h2v7zm4 0h-2V7h2v10zm4 0h-2v-4h2v4z\"/>\n",
              "    </g>\n",
              "</svg>\n",
              "  </button>\n",
              "\n",
              "<style>\n",
              "  .colab-df-quickchart {\n",
              "      --bg-color: #E8F0FE;\n",
              "      --fill-color: #1967D2;\n",
              "      --hover-bg-color: #E2EBFA;\n",
              "      --hover-fill-color: #174EA6;\n",
              "      --disabled-fill-color: #AAA;\n",
              "      --disabled-bg-color: #DDD;\n",
              "  }\n",
              "\n",
              "  [theme=dark] .colab-df-quickchart {\n",
              "      --bg-color: #3B4455;\n",
              "      --fill-color: #D2E3FC;\n",
              "      --hover-bg-color: #434B5C;\n",
              "      --hover-fill-color: #FFFFFF;\n",
              "      --disabled-bg-color: #3B4455;\n",
              "      --disabled-fill-color: #666;\n",
              "  }\n",
              "\n",
              "  .colab-df-quickchart {\n",
              "    background-color: var(--bg-color);\n",
              "    border: none;\n",
              "    border-radius: 50%;\n",
              "    cursor: pointer;\n",
              "    display: none;\n",
              "    fill: var(--fill-color);\n",
              "    height: 32px;\n",
              "    padding: 0;\n",
              "    width: 32px;\n",
              "  }\n",
              "\n",
              "  .colab-df-quickchart:hover {\n",
              "    background-color: var(--hover-bg-color);\n",
              "    box-shadow: 0 1px 2px rgba(60, 64, 67, 0.3), 0 1px 3px 1px rgba(60, 64, 67, 0.15);\n",
              "    fill: var(--button-hover-fill-color);\n",
              "  }\n",
              "\n",
              "  .colab-df-quickchart-complete:disabled,\n",
              "  .colab-df-quickchart-complete:disabled:hover {\n",
              "    background-color: var(--disabled-bg-color);\n",
              "    fill: var(--disabled-fill-color);\n",
              "    box-shadow: none;\n",
              "  }\n",
              "\n",
              "  .colab-df-spinner {\n",
              "    border: 2px solid var(--fill-color);\n",
              "    border-color: transparent;\n",
              "    border-bottom-color: var(--fill-color);\n",
              "    animation:\n",
              "      spin 1s steps(1) infinite;\n",
              "  }\n",
              "\n",
              "  @keyframes spin {\n",
              "    0% {\n",
              "      border-color: transparent;\n",
              "      border-bottom-color: var(--fill-color);\n",
              "      border-left-color: var(--fill-color);\n",
              "    }\n",
              "    20% {\n",
              "      border-color: transparent;\n",
              "      border-left-color: var(--fill-color);\n",
              "      border-top-color: var(--fill-color);\n",
              "    }\n",
              "    30% {\n",
              "      border-color: transparent;\n",
              "      border-left-color: var(--fill-color);\n",
              "      border-top-color: var(--fill-color);\n",
              "      border-right-color: var(--fill-color);\n",
              "    }\n",
              "    40% {\n",
              "      border-color: transparent;\n",
              "      border-right-color: var(--fill-color);\n",
              "      border-top-color: var(--fill-color);\n",
              "    }\n",
              "    60% {\n",
              "      border-color: transparent;\n",
              "      border-right-color: var(--fill-color);\n",
              "    }\n",
              "    80% {\n",
              "      border-color: transparent;\n",
              "      border-right-color: var(--fill-color);\n",
              "      border-bottom-color: var(--fill-color);\n",
              "    }\n",
              "    90% {\n",
              "      border-color: transparent;\n",
              "      border-bottom-color: var(--fill-color);\n",
              "    }\n",
              "  }\n",
              "</style>\n",
              "\n",
              "  <script>\n",
              "    async function quickchart(key) {\n",
              "      const quickchartButtonEl =\n",
              "        document.querySelector('#' + key + ' button');\n",
              "      quickchartButtonEl.disabled = true;  // To prevent multiple clicks.\n",
              "      quickchartButtonEl.classList.add('colab-df-spinner');\n",
              "      try {\n",
              "        const charts = await google.colab.kernel.invokeFunction(\n",
              "            'suggestCharts', [key], {});\n",
              "      } catch (error) {\n",
              "        console.error('Error during call to suggestCharts:', error);\n",
              "      }\n",
              "      quickchartButtonEl.classList.remove('colab-df-spinner');\n",
              "      quickchartButtonEl.classList.add('colab-df-quickchart-complete');\n",
              "    }\n",
              "    (() => {\n",
              "      let quickchartButtonEl =\n",
              "        document.querySelector('#df-35190ac2-6c8a-42d1-b7da-fc7233b5d528 button');\n",
              "      quickchartButtonEl.style.display =\n",
              "        google.colab.kernel.accessAllowed ? 'block' : 'none';\n",
              "    })();\n",
              "  </script>\n",
              "</div>\n",
              "    </div>\n",
              "  </div>\n"
            ],
            "application/vnd.google.colaboratory.intrinsic+json": {
              "type": "dataframe",
              "variable_name": "topics_df"
            }
          },
          "metadata": {},
          "execution_count": 37
        }
      ]
    },
    {
      "cell_type": "code",
      "source": [
        "pd.set_option('display.max_colwidth', -1)\n",
        "topics_df = pd.DataFrame([', '.join([term for term, wt in topic])\n",
        "                              for topic in topics],\n",
        "                         columns = ['Terms per Topic'],\n",
        "                         index=['Topic'+str(t) for t in range(1, best_lda_model.num_topics+1)]\n",
        "                         )\n",
        "topics_df"
      ],
      "metadata": {
        "colab": {
          "base_uri": "https://localhost:8080/",
          "height": 982
        },
        "id": "zdwNd7WkSt-8",
        "outputId": "49a4018c-a292-4c71-8df2-d10fe9274bb4"
      },
      "execution_count": 38,
      "outputs": [
        {
          "output_type": "stream",
          "name": "stderr",
          "text": [
            "<ipython-input-38-2344564c35e3>:1: FutureWarning: Passing a negative integer is deprecated in version 1.0 and will not be supported in future version. Instead, use None to not limit the column width.\n",
            "  pd.set_option('display.max_colwidth', -1)\n"
          ]
        },
        {
          "output_type": "execute_result",
          "data": {
            "text/plain": [
              "                                                                                                 Terms per Topic\n",
              "Topic1   wave, session, kelly_slater, winter, new, indonesia, ever, paddle, surfline, preview                   \n",
              "Topic2   wave, world, back, contest, insane, tour, day, small, swell, caroline                                  \n",
              "Topic3   pipeline, gopro_angle, two, france, ho, derek, 6th, rocky_point, episode, matsuoka                     \n",
              "Topic4   january, pipeline, wave, episode, angle, red_bull, day, burrow, forecast, eli_olson                    \n",
              "Topic5   session, kai_lenny, barrel, jaw, kai, swell, surfline_tv, super, tahiti, kalani                        \n",
              "Topic6   like, wave, ocean, teahupoo, line, full, mexico, part, never, inside                                   \n",
              "Topic7   pipeline, dec, jan, angle, jamie_brien, wall, november, feb, koa_rothman, nov                          \n",
              "Topic8   video, outlook, round_heat, southern_california, jordy_smith, wilson, chris, davidson, julian, workweek\n",
              "Topic9   mirage, one, curl, rip, ultimate, made, boardshort, wave, mick_fanning, search                         \n",
              "Topic10  gabriel_medina, round_heat, hobgood, matt_wilkinson, power, ross, damien, backdoor, thing, got         \n",
              "Topic11  top, beginner, south, intermediate, ep_hack, africa, challenge, mistake, wave, moment                  \n",
              "Topic12  win, round_heat, battle_breast, bourez, punt_month, quarterfinal, walsh, ian, round, michel            \n",
              "Topic13  wave, big, session, slab, clip, podcast, late_drop, pov_raw, wild, iron                                \n",
              "Topic14  surfboard, trip, board, day, better, know, every, performance, perfect, minute                         \n",
              "Topic15  get, reef, time, wave, tyler_wright, step, improve, bell, body, barrel                                 \n",
              "Topic16  rip, curl, day, collection, bikini, woman, summer, good, one, mybikini                                 \n",
              "Topic17  short, pop, paddling, exercise, shoulder, jack_robinson, andre, stack, balaram, flynn                  \n",
              "Topic18  backdoor, pipeline, florence, dec, john_john, jan, angle, february, griffin_colapinto, 7th             \n",
              "Topic19  pipeline, tube, anthony_walsh, mason_ho, feb, jan_10th, makua_rothman, dec, tip, jan_11th              \n",
              "Topic20  rip, curl, padang, cup_padang, bali, wave, made, everything, wetsuits, new                             \n",
              "Topic21  curl, rip, best, bomb, wsl, final, etapa, energy, indonesia, wakita                                    \n",
              "Topic22  ep, wave, winter, training, exercise, workout, depth_podcast, stretch, fitness, style                  \n",
              "Topic23  portugal, wave, season, best, lucas, champion, chumbo, rail, world, azores                             \n",
              "Topic24  rip, curl, pro, gromsearch, final, highlight, day, portugal, beach, search                             \n",
              "Topic25  live, surfline, cam, north_shore, replay, hawaii, lower, three, fin, session                           \n",
              "Topic26  round_heat, wipeout, turn, parkinson, need, durbidge, surfboard, wave, bethany_hamilton, best          \n",
              "Topic27  cam_rewind, wave, catch, love, front, day, mick_fanning, left, perfect, first                          \n",
              "Topic28  wave, von_froth, nazare, really, nazaré, big, xxl, session, october, swell                             "
            ],
            "text/html": [
              "\n",
              "  <div id=\"df-c54fee8e-68e4-48b6-92ea-6bbd8eaee869\" class=\"colab-df-container\">\n",
              "    <div>\n",
              "<style scoped>\n",
              "    .dataframe tbody tr th:only-of-type {\n",
              "        vertical-align: middle;\n",
              "    }\n",
              "\n",
              "    .dataframe tbody tr th {\n",
              "        vertical-align: top;\n",
              "    }\n",
              "\n",
              "    .dataframe thead th {\n",
              "        text-align: right;\n",
              "    }\n",
              "</style>\n",
              "<table border=\"1\" class=\"dataframe\">\n",
              "  <thead>\n",
              "    <tr style=\"text-align: right;\">\n",
              "      <th></th>\n",
              "      <th>Terms per Topic</th>\n",
              "    </tr>\n",
              "  </thead>\n",
              "  <tbody>\n",
              "    <tr>\n",
              "      <th>Topic1</th>\n",
              "      <td>wave, session, kelly_slater, winter, new, indonesia, ever, paddle, surfline, preview</td>\n",
              "    </tr>\n",
              "    <tr>\n",
              "      <th>Topic2</th>\n",
              "      <td>wave, world, back, contest, insane, tour, day, small, swell, caroline</td>\n",
              "    </tr>\n",
              "    <tr>\n",
              "      <th>Topic3</th>\n",
              "      <td>pipeline, gopro_angle, two, france, ho, derek, 6th, rocky_point, episode, matsuoka</td>\n",
              "    </tr>\n",
              "    <tr>\n",
              "      <th>Topic4</th>\n",
              "      <td>january, pipeline, wave, episode, angle, red_bull, day, burrow, forecast, eli_olson</td>\n",
              "    </tr>\n",
              "    <tr>\n",
              "      <th>Topic5</th>\n",
              "      <td>session, kai_lenny, barrel, jaw, kai, swell, surfline_tv, super, tahiti, kalani</td>\n",
              "    </tr>\n",
              "    <tr>\n",
              "      <th>Topic6</th>\n",
              "      <td>like, wave, ocean, teahupoo, line, full, mexico, part, never, inside</td>\n",
              "    </tr>\n",
              "    <tr>\n",
              "      <th>Topic7</th>\n",
              "      <td>pipeline, dec, jan, angle, jamie_brien, wall, november, feb, koa_rothman, nov</td>\n",
              "    </tr>\n",
              "    <tr>\n",
              "      <th>Topic8</th>\n",
              "      <td>video, outlook, round_heat, southern_california, jordy_smith, wilson, chris, davidson, julian, workweek</td>\n",
              "    </tr>\n",
              "    <tr>\n",
              "      <th>Topic9</th>\n",
              "      <td>mirage, one, curl, rip, ultimate, made, boardshort, wave, mick_fanning, search</td>\n",
              "    </tr>\n",
              "    <tr>\n",
              "      <th>Topic10</th>\n",
              "      <td>gabriel_medina, round_heat, hobgood, matt_wilkinson, power, ross, damien, backdoor, thing, got</td>\n",
              "    </tr>\n",
              "    <tr>\n",
              "      <th>Topic11</th>\n",
              "      <td>top, beginner, south, intermediate, ep_hack, africa, challenge, mistake, wave, moment</td>\n",
              "    </tr>\n",
              "    <tr>\n",
              "      <th>Topic12</th>\n",
              "      <td>win, round_heat, battle_breast, bourez, punt_month, quarterfinal, walsh, ian, round, michel</td>\n",
              "    </tr>\n",
              "    <tr>\n",
              "      <th>Topic13</th>\n",
              "      <td>wave, big, session, slab, clip, podcast, late_drop, pov_raw, wild, iron</td>\n",
              "    </tr>\n",
              "    <tr>\n",
              "      <th>Topic14</th>\n",
              "      <td>surfboard, trip, board, day, better, know, every, performance, perfect, minute</td>\n",
              "    </tr>\n",
              "    <tr>\n",
              "      <th>Topic15</th>\n",
              "      <td>get, reef, time, wave, tyler_wright, step, improve, bell, body, barrel</td>\n",
              "    </tr>\n",
              "    <tr>\n",
              "      <th>Topic16</th>\n",
              "      <td>rip, curl, day, collection, bikini, woman, summer, good, one, mybikini</td>\n",
              "    </tr>\n",
              "    <tr>\n",
              "      <th>Topic17</th>\n",
              "      <td>short, pop, paddling, exercise, shoulder, jack_robinson, andre, stack, balaram, flynn</td>\n",
              "    </tr>\n",
              "    <tr>\n",
              "      <th>Topic18</th>\n",
              "      <td>backdoor, pipeline, florence, dec, john_john, jan, angle, february, griffin_colapinto, 7th</td>\n",
              "    </tr>\n",
              "    <tr>\n",
              "      <th>Topic19</th>\n",
              "      <td>pipeline, tube, anthony_walsh, mason_ho, feb, jan_10th, makua_rothman, dec, tip, jan_11th</td>\n",
              "    </tr>\n",
              "    <tr>\n",
              "      <th>Topic20</th>\n",
              "      <td>rip, curl, padang, cup_padang, bali, wave, made, everything, wetsuits, new</td>\n",
              "    </tr>\n",
              "    <tr>\n",
              "      <th>Topic21</th>\n",
              "      <td>curl, rip, best, bomb, wsl, final, etapa, energy, indonesia, wakita</td>\n",
              "    </tr>\n",
              "    <tr>\n",
              "      <th>Topic22</th>\n",
              "      <td>ep, wave, winter, training, exercise, workout, depth_podcast, stretch, fitness, style</td>\n",
              "    </tr>\n",
              "    <tr>\n",
              "      <th>Topic23</th>\n",
              "      <td>portugal, wave, season, best, lucas, champion, chumbo, rail, world, azores</td>\n",
              "    </tr>\n",
              "    <tr>\n",
              "      <th>Topic24</th>\n",
              "      <td>rip, curl, pro, gromsearch, final, highlight, day, portugal, beach, search</td>\n",
              "    </tr>\n",
              "    <tr>\n",
              "      <th>Topic25</th>\n",
              "      <td>live, surfline, cam, north_shore, replay, hawaii, lower, three, fin, session</td>\n",
              "    </tr>\n",
              "    <tr>\n",
              "      <th>Topic26</th>\n",
              "      <td>round_heat, wipeout, turn, parkinson, need, durbidge, surfboard, wave, bethany_hamilton, best</td>\n",
              "    </tr>\n",
              "    <tr>\n",
              "      <th>Topic27</th>\n",
              "      <td>cam_rewind, wave, catch, love, front, day, mick_fanning, left, perfect, first</td>\n",
              "    </tr>\n",
              "    <tr>\n",
              "      <th>Topic28</th>\n",
              "      <td>wave, von_froth, nazare, really, nazaré, big, xxl, session, october, swell</td>\n",
              "    </tr>\n",
              "  </tbody>\n",
              "</table>\n",
              "</div>\n",
              "    <div class=\"colab-df-buttons\">\n",
              "\n",
              "  <div class=\"colab-df-container\">\n",
              "    <button class=\"colab-df-convert\" onclick=\"convertToInteractive('df-c54fee8e-68e4-48b6-92ea-6bbd8eaee869')\"\n",
              "            title=\"Convert this dataframe to an interactive table.\"\n",
              "            style=\"display:none;\">\n",
              "\n",
              "  <svg xmlns=\"http://www.w3.org/2000/svg\" height=\"24px\" viewBox=\"0 -960 960 960\">\n",
              "    <path d=\"M120-120v-720h720v720H120Zm60-500h600v-160H180v160Zm220 220h160v-160H400v160Zm0 220h160v-160H400v160ZM180-400h160v-160H180v160Zm440 0h160v-160H620v160ZM180-180h160v-160H180v160Zm440 0h160v-160H620v160Z\"/>\n",
              "  </svg>\n",
              "    </button>\n",
              "\n",
              "  <style>\n",
              "    .colab-df-container {\n",
              "      display:flex;\n",
              "      gap: 12px;\n",
              "    }\n",
              "\n",
              "    .colab-df-convert {\n",
              "      background-color: #E8F0FE;\n",
              "      border: none;\n",
              "      border-radius: 50%;\n",
              "      cursor: pointer;\n",
              "      display: none;\n",
              "      fill: #1967D2;\n",
              "      height: 32px;\n",
              "      padding: 0 0 0 0;\n",
              "      width: 32px;\n",
              "    }\n",
              "\n",
              "    .colab-df-convert:hover {\n",
              "      background-color: #E2EBFA;\n",
              "      box-shadow: 0px 1px 2px rgba(60, 64, 67, 0.3), 0px 1px 3px 1px rgba(60, 64, 67, 0.15);\n",
              "      fill: #174EA6;\n",
              "    }\n",
              "\n",
              "    .colab-df-buttons div {\n",
              "      margin-bottom: 4px;\n",
              "    }\n",
              "\n",
              "    [theme=dark] .colab-df-convert {\n",
              "      background-color: #3B4455;\n",
              "      fill: #D2E3FC;\n",
              "    }\n",
              "\n",
              "    [theme=dark] .colab-df-convert:hover {\n",
              "      background-color: #434B5C;\n",
              "      box-shadow: 0px 1px 3px 1px rgba(0, 0, 0, 0.15);\n",
              "      filter: drop-shadow(0px 1px 2px rgba(0, 0, 0, 0.3));\n",
              "      fill: #FFFFFF;\n",
              "    }\n",
              "  </style>\n",
              "\n",
              "    <script>\n",
              "      const buttonEl =\n",
              "        document.querySelector('#df-c54fee8e-68e4-48b6-92ea-6bbd8eaee869 button.colab-df-convert');\n",
              "      buttonEl.style.display =\n",
              "        google.colab.kernel.accessAllowed ? 'block' : 'none';\n",
              "\n",
              "      async function convertToInteractive(key) {\n",
              "        const element = document.querySelector('#df-c54fee8e-68e4-48b6-92ea-6bbd8eaee869');\n",
              "        const dataTable =\n",
              "          await google.colab.kernel.invokeFunction('convertToInteractive',\n",
              "                                                    [key], {});\n",
              "        if (!dataTable) return;\n",
              "\n",
              "        const docLinkHtml = 'Like what you see? Visit the ' +\n",
              "          '<a target=\"_blank\" href=https://colab.research.google.com/notebooks/data_table.ipynb>data table notebook</a>'\n",
              "          + ' to learn more about interactive tables.';\n",
              "        element.innerHTML = '';\n",
              "        dataTable['output_type'] = 'display_data';\n",
              "        await google.colab.output.renderOutput(dataTable, element);\n",
              "        const docLink = document.createElement('div');\n",
              "        docLink.innerHTML = docLinkHtml;\n",
              "        element.appendChild(docLink);\n",
              "      }\n",
              "    </script>\n",
              "  </div>\n",
              "\n",
              "\n",
              "<div id=\"df-e7edd5c4-7ca6-4a30-9e3b-8ef96cc4ad0f\">\n",
              "  <button class=\"colab-df-quickchart\" onclick=\"quickchart('df-e7edd5c4-7ca6-4a30-9e3b-8ef96cc4ad0f')\"\n",
              "            title=\"Suggest charts\"\n",
              "            style=\"display:none;\">\n",
              "\n",
              "<svg xmlns=\"http://www.w3.org/2000/svg\" height=\"24px\"viewBox=\"0 0 24 24\"\n",
              "     width=\"24px\">\n",
              "    <g>\n",
              "        <path d=\"M19 3H5c-1.1 0-2 .9-2 2v14c0 1.1.9 2 2 2h14c1.1 0 2-.9 2-2V5c0-1.1-.9-2-2-2zM9 17H7v-7h2v7zm4 0h-2V7h2v10zm4 0h-2v-4h2v4z\"/>\n",
              "    </g>\n",
              "</svg>\n",
              "  </button>\n",
              "\n",
              "<style>\n",
              "  .colab-df-quickchart {\n",
              "      --bg-color: #E8F0FE;\n",
              "      --fill-color: #1967D2;\n",
              "      --hover-bg-color: #E2EBFA;\n",
              "      --hover-fill-color: #174EA6;\n",
              "      --disabled-fill-color: #AAA;\n",
              "      --disabled-bg-color: #DDD;\n",
              "  }\n",
              "\n",
              "  [theme=dark] .colab-df-quickchart {\n",
              "      --bg-color: #3B4455;\n",
              "      --fill-color: #D2E3FC;\n",
              "      --hover-bg-color: #434B5C;\n",
              "      --hover-fill-color: #FFFFFF;\n",
              "      --disabled-bg-color: #3B4455;\n",
              "      --disabled-fill-color: #666;\n",
              "  }\n",
              "\n",
              "  .colab-df-quickchart {\n",
              "    background-color: var(--bg-color);\n",
              "    border: none;\n",
              "    border-radius: 50%;\n",
              "    cursor: pointer;\n",
              "    display: none;\n",
              "    fill: var(--fill-color);\n",
              "    height: 32px;\n",
              "    padding: 0;\n",
              "    width: 32px;\n",
              "  }\n",
              "\n",
              "  .colab-df-quickchart:hover {\n",
              "    background-color: var(--hover-bg-color);\n",
              "    box-shadow: 0 1px 2px rgba(60, 64, 67, 0.3), 0 1px 3px 1px rgba(60, 64, 67, 0.15);\n",
              "    fill: var(--button-hover-fill-color);\n",
              "  }\n",
              "\n",
              "  .colab-df-quickchart-complete:disabled,\n",
              "  .colab-df-quickchart-complete:disabled:hover {\n",
              "    background-color: var(--disabled-bg-color);\n",
              "    fill: var(--disabled-fill-color);\n",
              "    box-shadow: none;\n",
              "  }\n",
              "\n",
              "  .colab-df-spinner {\n",
              "    border: 2px solid var(--fill-color);\n",
              "    border-color: transparent;\n",
              "    border-bottom-color: var(--fill-color);\n",
              "    animation:\n",
              "      spin 1s steps(1) infinite;\n",
              "  }\n",
              "\n",
              "  @keyframes spin {\n",
              "    0% {\n",
              "      border-color: transparent;\n",
              "      border-bottom-color: var(--fill-color);\n",
              "      border-left-color: var(--fill-color);\n",
              "    }\n",
              "    20% {\n",
              "      border-color: transparent;\n",
              "      border-left-color: var(--fill-color);\n",
              "      border-top-color: var(--fill-color);\n",
              "    }\n",
              "    30% {\n",
              "      border-color: transparent;\n",
              "      border-left-color: var(--fill-color);\n",
              "      border-top-color: var(--fill-color);\n",
              "      border-right-color: var(--fill-color);\n",
              "    }\n",
              "    40% {\n",
              "      border-color: transparent;\n",
              "      border-right-color: var(--fill-color);\n",
              "      border-top-color: var(--fill-color);\n",
              "    }\n",
              "    60% {\n",
              "      border-color: transparent;\n",
              "      border-right-color: var(--fill-color);\n",
              "    }\n",
              "    80% {\n",
              "      border-color: transparent;\n",
              "      border-right-color: var(--fill-color);\n",
              "      border-bottom-color: var(--fill-color);\n",
              "    }\n",
              "    90% {\n",
              "      border-color: transparent;\n",
              "      border-bottom-color: var(--fill-color);\n",
              "    }\n",
              "  }\n",
              "</style>\n",
              "\n",
              "  <script>\n",
              "    async function quickchart(key) {\n",
              "      const quickchartButtonEl =\n",
              "        document.querySelector('#' + key + ' button');\n",
              "      quickchartButtonEl.disabled = true;  // To prevent multiple clicks.\n",
              "      quickchartButtonEl.classList.add('colab-df-spinner');\n",
              "      try {\n",
              "        const charts = await google.colab.kernel.invokeFunction(\n",
              "            'suggestCharts', [key], {});\n",
              "      } catch (error) {\n",
              "        console.error('Error during call to suggestCharts:', error);\n",
              "      }\n",
              "      quickchartButtonEl.classList.remove('colab-df-spinner');\n",
              "      quickchartButtonEl.classList.add('colab-df-quickchart-complete');\n",
              "    }\n",
              "    (() => {\n",
              "      let quickchartButtonEl =\n",
              "        document.querySelector('#df-e7edd5c4-7ca6-4a30-9e3b-8ef96cc4ad0f button');\n",
              "      quickchartButtonEl.style.display =\n",
              "        google.colab.kernel.accessAllowed ? 'block' : 'none';\n",
              "    })();\n",
              "  </script>\n",
              "</div>\n",
              "    </div>\n",
              "  </div>\n"
            ],
            "application/vnd.google.colaboratory.intrinsic+json": {
              "type": "dataframe",
              "variable_name": "topics_df",
              "summary": "{\n  \"name\": \"topics_df\",\n  \"rows\": 28,\n  \"fields\": [\n    {\n      \"column\": \"Terms per Topic\",\n      \"properties\": {\n        \"dtype\": \"string\",\n        \"num_unique_values\": 28,\n        \"samples\": [\n          \"gabriel_medina, round_heat, hobgood, matt_wilkinson, power, ross, damien, backdoor, thing, got\",\n          \"round_heat, wipeout, turn, parkinson, need, durbidge, surfboard, wave, bethany_hamilton, best\",\n          \"mirage, one, curl, rip, ultimate, made, boardshort, wave, mick_fanning, search\"\n        ],\n        \"semantic_type\": \"\",\n        \"description\": \"\"\n      }\n    }\n  ]\n}"
            }
          },
          "metadata": {},
          "execution_count": 38
        }
      ]
    },
    {
      "cell_type": "markdown",
      "source": [
        "###**Conclusions:**###\n",
        "Within this set of YouTube Channels related to surfing, the videos fall into several key categories:\n",
        "*  Competition (Topics 2, 7 18, and 23)\n",
        "*  Instructional / training videos (Topics 11 and 22)\n",
        "*  Equipment / Gear review (Topics 9 and 14)\n",
        "*  Fun videos\n",
        "\n",
        "It is noteworthy that Pro Surfers and the location of the video play a huge role in the category, even if these individuals' channels are not scrapped.\n",
        "\n",
        "Key locations where competitions also occur are:\n",
        "* Nazare and other locations in Portugal\n",
        "* Pipeline and locations in Hawaii\n",
        "* Bali (Padang Padang, Uluwati)\n",
        "\n",
        "While the LDA tuning exercise shows that there are 28 topics, these topics are likely to be more finegrained and fall into the categories I highlighted earlier.\n",
        "\n",
        "\n"
      ],
      "metadata": {
        "id": "rPA0EApKEG5E"
      }
    }
  ]
}